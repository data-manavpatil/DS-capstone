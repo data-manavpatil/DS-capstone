{
 "cells": [
  {
   "cell_type": "code",
   "execution_count": 1,
   "id": "90d1a609",
   "metadata": {},
   "outputs": [
    {
     "data": {
      "application/vnd.microsoft.datawrangler.viewer.v0+json": {
       "columns": [
        {
         "name": "index",
         "rawType": "int64",
         "type": "integer"
        },
        {
         "name": "flightnumber",
         "rawType": "int64",
         "type": "integer"
        },
        {
         "name": "date",
         "rawType": "object",
         "type": "string"
        },
        {
         "name": "boosterversion",
         "rawType": "object",
         "type": "string"
        },
        {
         "name": "payloadmass",
         "rawType": "float64",
         "type": "float"
        },
        {
         "name": "orbit",
         "rawType": "object",
         "type": "string"
        },
        {
         "name": "launchsite",
         "rawType": "object",
         "type": "string"
        },
        {
         "name": "outcome",
         "rawType": "object",
         "type": "string"
        },
        {
         "name": "flights",
         "rawType": "int64",
         "type": "integer"
        },
        {
         "name": "gridfins",
         "rawType": "bool",
         "type": "boolean"
        },
        {
         "name": "reused",
         "rawType": "bool",
         "type": "boolean"
        },
        {
         "name": "legs",
         "rawType": "bool",
         "type": "boolean"
        },
        {
         "name": "landingpad",
         "rawType": "object",
         "type": "unknown"
        },
        {
         "name": "block",
         "rawType": "int64",
         "type": "integer"
        },
        {
         "name": "reusedcount",
         "rawType": "int64",
         "type": "integer"
        },
        {
         "name": "serial",
         "rawType": "object",
         "type": "string"
        },
        {
         "name": "longitude",
         "rawType": "float64",
         "type": "float"
        },
        {
         "name": "latitude",
         "rawType": "float64",
         "type": "float"
        }
       ],
       "conversionMethod": "pd.DataFrame",
       "ref": "85585411-938d-4454-b058-768a9ea7b11e",
       "rows": [
        [
         "0",
         "1",
         "6/4/2010",
         "Falcon 9",
         "6123.547647058824",
         "LEO",
         "CCSFS SLC 40",
         "None None",
         "1",
         "False",
         "False",
         "False",
         null,
         "1",
         "0",
         "B0003",
         "-80.577366",
         "28.5618571"
        ],
        [
         "1",
         "2",
         "5/22/2012",
         "Falcon 9",
         "525.0",
         "LEO",
         "CCSFS SLC 40",
         "None None",
         "1",
         "False",
         "False",
         "False",
         null,
         "1",
         "0",
         "B0005",
         "-80.577366",
         "28.5618571"
        ],
        [
         "2",
         "3",
         "3/1/2013",
         "Falcon 9",
         "677.0",
         "ISS",
         "CCSFS SLC 40",
         "None None",
         "1",
         "False",
         "False",
         "False",
         null,
         "1",
         "0",
         "B0007",
         "-80.577366",
         "28.5618571"
        ],
        [
         "3",
         "4",
         "9/29/2013",
         "Falcon 9",
         "500.0",
         "PO",
         "VAFB SLC 4E",
         "False Ocean",
         "1",
         "False",
         "False",
         "False",
         null,
         "1",
         "0",
         "B1003",
         "-120.610829",
         "34.632093"
        ],
        [
         "4",
         "5",
         "12/3/2013",
         "Falcon 9",
         "3170.0",
         "GTO",
         "CCSFS SLC 40",
         "None None",
         "1",
         "False",
         "False",
         "False",
         null,
         "1",
         "0",
         "B1004",
         "-80.577366",
         "28.5618571"
        ]
       ],
       "shape": {
        "columns": 17,
        "rows": 5
       }
      },
      "text/html": [
       "<div>\n",
       "<style scoped>\n",
       "    .dataframe tbody tr th:only-of-type {\n",
       "        vertical-align: middle;\n",
       "    }\n",
       "\n",
       "    .dataframe tbody tr th {\n",
       "        vertical-align: top;\n",
       "    }\n",
       "\n",
       "    .dataframe thead th {\n",
       "        text-align: right;\n",
       "    }\n",
       "</style>\n",
       "<table border=\"1\" class=\"dataframe\">\n",
       "  <thead>\n",
       "    <tr style=\"text-align: right;\">\n",
       "      <th></th>\n",
       "      <th>flightnumber</th>\n",
       "      <th>date</th>\n",
       "      <th>boosterversion</th>\n",
       "      <th>payloadmass</th>\n",
       "      <th>orbit</th>\n",
       "      <th>launchsite</th>\n",
       "      <th>outcome</th>\n",
       "      <th>flights</th>\n",
       "      <th>gridfins</th>\n",
       "      <th>reused</th>\n",
       "      <th>legs</th>\n",
       "      <th>landingpad</th>\n",
       "      <th>block</th>\n",
       "      <th>reusedcount</th>\n",
       "      <th>serial</th>\n",
       "      <th>longitude</th>\n",
       "      <th>latitude</th>\n",
       "    </tr>\n",
       "  </thead>\n",
       "  <tbody>\n",
       "    <tr>\n",
       "      <th>0</th>\n",
       "      <td>1</td>\n",
       "      <td>6/4/2010</td>\n",
       "      <td>Falcon 9</td>\n",
       "      <td>6123.547647</td>\n",
       "      <td>LEO</td>\n",
       "      <td>CCSFS SLC 40</td>\n",
       "      <td>None None</td>\n",
       "      <td>1</td>\n",
       "      <td>False</td>\n",
       "      <td>False</td>\n",
       "      <td>False</td>\n",
       "      <td>NaN</td>\n",
       "      <td>1</td>\n",
       "      <td>0</td>\n",
       "      <td>B0003</td>\n",
       "      <td>-80.577366</td>\n",
       "      <td>28.561857</td>\n",
       "    </tr>\n",
       "    <tr>\n",
       "      <th>1</th>\n",
       "      <td>2</td>\n",
       "      <td>5/22/2012</td>\n",
       "      <td>Falcon 9</td>\n",
       "      <td>525.000000</td>\n",
       "      <td>LEO</td>\n",
       "      <td>CCSFS SLC 40</td>\n",
       "      <td>None None</td>\n",
       "      <td>1</td>\n",
       "      <td>False</td>\n",
       "      <td>False</td>\n",
       "      <td>False</td>\n",
       "      <td>NaN</td>\n",
       "      <td>1</td>\n",
       "      <td>0</td>\n",
       "      <td>B0005</td>\n",
       "      <td>-80.577366</td>\n",
       "      <td>28.561857</td>\n",
       "    </tr>\n",
       "    <tr>\n",
       "      <th>2</th>\n",
       "      <td>3</td>\n",
       "      <td>3/1/2013</td>\n",
       "      <td>Falcon 9</td>\n",
       "      <td>677.000000</td>\n",
       "      <td>ISS</td>\n",
       "      <td>CCSFS SLC 40</td>\n",
       "      <td>None None</td>\n",
       "      <td>1</td>\n",
       "      <td>False</td>\n",
       "      <td>False</td>\n",
       "      <td>False</td>\n",
       "      <td>NaN</td>\n",
       "      <td>1</td>\n",
       "      <td>0</td>\n",
       "      <td>B0007</td>\n",
       "      <td>-80.577366</td>\n",
       "      <td>28.561857</td>\n",
       "    </tr>\n",
       "    <tr>\n",
       "      <th>3</th>\n",
       "      <td>4</td>\n",
       "      <td>9/29/2013</td>\n",
       "      <td>Falcon 9</td>\n",
       "      <td>500.000000</td>\n",
       "      <td>PO</td>\n",
       "      <td>VAFB SLC 4E</td>\n",
       "      <td>False Ocean</td>\n",
       "      <td>1</td>\n",
       "      <td>False</td>\n",
       "      <td>False</td>\n",
       "      <td>False</td>\n",
       "      <td>NaN</td>\n",
       "      <td>1</td>\n",
       "      <td>0</td>\n",
       "      <td>B1003</td>\n",
       "      <td>-120.610829</td>\n",
       "      <td>34.632093</td>\n",
       "    </tr>\n",
       "    <tr>\n",
       "      <th>4</th>\n",
       "      <td>5</td>\n",
       "      <td>12/3/2013</td>\n",
       "      <td>Falcon 9</td>\n",
       "      <td>3170.000000</td>\n",
       "      <td>GTO</td>\n",
       "      <td>CCSFS SLC 40</td>\n",
       "      <td>None None</td>\n",
       "      <td>1</td>\n",
       "      <td>False</td>\n",
       "      <td>False</td>\n",
       "      <td>False</td>\n",
       "      <td>NaN</td>\n",
       "      <td>1</td>\n",
       "      <td>0</td>\n",
       "      <td>B1004</td>\n",
       "      <td>-80.577366</td>\n",
       "      <td>28.561857</td>\n",
       "    </tr>\n",
       "  </tbody>\n",
       "</table>\n",
       "</div>"
      ],
      "text/plain": [
       "   flightnumber       date boosterversion  payloadmass orbit    launchsite  \\\n",
       "0             1   6/4/2010       Falcon 9  6123.547647   LEO  CCSFS SLC 40   \n",
       "1             2  5/22/2012       Falcon 9   525.000000   LEO  CCSFS SLC 40   \n",
       "2             3   3/1/2013       Falcon 9   677.000000   ISS  CCSFS SLC 40   \n",
       "3             4  9/29/2013       Falcon 9   500.000000    PO   VAFB SLC 4E   \n",
       "4             5  12/3/2013       Falcon 9  3170.000000   GTO  CCSFS SLC 40   \n",
       "\n",
       "       outcome  flights  gridfins  reused   legs landingpad  block  \\\n",
       "0    None None        1     False   False  False        NaN      1   \n",
       "1    None None        1     False   False  False        NaN      1   \n",
       "2    None None        1     False   False  False        NaN      1   \n",
       "3  False Ocean        1     False   False  False        NaN      1   \n",
       "4    None None        1     False   False  False        NaN      1   \n",
       "\n",
       "   reusedcount serial   longitude   latitude  \n",
       "0            0  B0003  -80.577366  28.561857  \n",
       "1            0  B0005  -80.577366  28.561857  \n",
       "2            0  B0007  -80.577366  28.561857  \n",
       "3            0  B1003 -120.610829  34.632093  \n",
       "4            0  B1004  -80.577366  28.561857  "
      ]
     },
     "execution_count": 1,
     "metadata": {},
     "output_type": "execute_result"
    }
   ],
   "source": [
    "import pandas as pd\n",
    "import sqlite3\n",
    "\n",
    "# Load the cleaned CSV\n",
    "df = pd.read_csv(\"C:/Users/manav/Desktop/cleaned_data.csv\")\n",
    "\n",
    "# Show preview\n",
    "df.head()\n"
   ]
  },
  {
   "cell_type": "code",
   "execution_count": 2,
   "id": "90c17bec",
   "metadata": {},
   "outputs": [
    {
     "data": {
      "text/plain": [
       "90"
      ]
     },
     "execution_count": 2,
     "metadata": {},
     "output_type": "execute_result"
    }
   ],
   "source": [
    "# Create SQLite connection in memory (or save to a file)\n",
    "conn = sqlite3.connect(':memory:')  # Or use \"data/landing_data.db\"\n",
    "\n",
    "# Save dataframe to SQL table\n",
    "df.to_sql(\"spacex\", conn, index=False, if_exists=\"replace\")\n"
   ]
  },
  {
   "cell_type": "markdown",
   "id": "293cba88",
   "metadata": {},
   "source": [
    "## ✅ Query 1: Count how many landings used gridfins\n"
   ]
  },
  {
   "cell_type": "code",
   "execution_count": 3,
   "id": "02eb75d8",
   "metadata": {},
   "outputs": [
    {
     "data": {
      "application/vnd.microsoft.datawrangler.viewer.v0+json": {
       "columns": [
        {
         "name": "index",
         "rawType": "int64",
         "type": "integer"
        },
        {
         "name": "gridfins",
         "rawType": "int64",
         "type": "integer"
        },
        {
         "name": "total",
         "rawType": "int64",
         "type": "integer"
        }
       ],
       "conversionMethod": "pd.DataFrame",
       "ref": "a6f6368e-5341-4d78-b317-6026da87c2c6",
       "rows": [
        [
         "0",
         "0",
         "20"
        ],
        [
         "1",
         "1",
         "70"
        ]
       ],
       "shape": {
        "columns": 2,
        "rows": 2
       }
      },
      "text/html": [
       "<div>\n",
       "<style scoped>\n",
       "    .dataframe tbody tr th:only-of-type {\n",
       "        vertical-align: middle;\n",
       "    }\n",
       "\n",
       "    .dataframe tbody tr th {\n",
       "        vertical-align: top;\n",
       "    }\n",
       "\n",
       "    .dataframe thead th {\n",
       "        text-align: right;\n",
       "    }\n",
       "</style>\n",
       "<table border=\"1\" class=\"dataframe\">\n",
       "  <thead>\n",
       "    <tr style=\"text-align: right;\">\n",
       "      <th></th>\n",
       "      <th>gridfins</th>\n",
       "      <th>total</th>\n",
       "    </tr>\n",
       "  </thead>\n",
       "  <tbody>\n",
       "    <tr>\n",
       "      <th>0</th>\n",
       "      <td>0</td>\n",
       "      <td>20</td>\n",
       "    </tr>\n",
       "    <tr>\n",
       "      <th>1</th>\n",
       "      <td>1</td>\n",
       "      <td>70</td>\n",
       "    </tr>\n",
       "  </tbody>\n",
       "</table>\n",
       "</div>"
      ],
      "text/plain": [
       "   gridfins  total\n",
       "0         0     20\n",
       "1         1     70"
      ]
     },
     "execution_count": 3,
     "metadata": {},
     "output_type": "execute_result"
    }
   ],
   "source": [
    "query = \"\"\"\n",
    "SELECT gridfins, COUNT(*) as total\n",
    "FROM spacex\n",
    "GROUP BY gridfins\n",
    "\"\"\"\n",
    "pd.read_sql(query, conn)\n"
   ]
  },
  {
   "cell_type": "markdown",
   "id": "46da5789",
   "metadata": {},
   "source": [
    "## ✅ Query 2: Average reused count by landing pad\n"
   ]
  },
  {
   "cell_type": "code",
   "execution_count": 4,
   "id": "89635cf5",
   "metadata": {},
   "outputs": [
    {
     "data": {
      "application/vnd.microsoft.datawrangler.viewer.v0+json": {
       "columns": [
        {
         "name": "index",
         "rawType": "int64",
         "type": "integer"
        },
        {
         "name": "landingpad",
         "rawType": "object",
         "type": "unknown"
        },
        {
         "name": "avg_reused",
         "rawType": "float64",
         "type": "float"
        }
       ],
       "conversionMethod": "pd.DataFrame",
       "ref": "fa115006-0e4c-4f7a-9559-c5bf4540c7be",
       "rows": [
        [
         "0",
         "5e9e3032383ecb554034e7c9",
         "8.0"
        ],
        [
         "1",
         "5e9e3033383ecbb9e534e7cc",
         "5.076923076923077"
        ],
        [
         "2",
         "5e9e3032383ecb6bb234e7ca",
         "4.684210526315789"
        ],
        [
         "3",
         "5e9e3032383ecb267a34e7c7",
         "1.2272727272727273"
        ],
        [
         "4",
         "5e9e3032383ecb761634e7cb",
         "0.0"
        ],
        [
         "5",
         null,
         "0.0"
        ]
       ],
       "shape": {
        "columns": 2,
        "rows": 6
       }
      },
      "text/html": [
       "<div>\n",
       "<style scoped>\n",
       "    .dataframe tbody tr th:only-of-type {\n",
       "        vertical-align: middle;\n",
       "    }\n",
       "\n",
       "    .dataframe tbody tr th {\n",
       "        vertical-align: top;\n",
       "    }\n",
       "\n",
       "    .dataframe thead th {\n",
       "        text-align: right;\n",
       "    }\n",
       "</style>\n",
       "<table border=\"1\" class=\"dataframe\">\n",
       "  <thead>\n",
       "    <tr style=\"text-align: right;\">\n",
       "      <th></th>\n",
       "      <th>landingpad</th>\n",
       "      <th>avg_reused</th>\n",
       "    </tr>\n",
       "  </thead>\n",
       "  <tbody>\n",
       "    <tr>\n",
       "      <th>0</th>\n",
       "      <td>5e9e3032383ecb554034e7c9</td>\n",
       "      <td>8.000000</td>\n",
       "    </tr>\n",
       "    <tr>\n",
       "      <th>1</th>\n",
       "      <td>5e9e3033383ecbb9e534e7cc</td>\n",
       "      <td>5.076923</td>\n",
       "    </tr>\n",
       "    <tr>\n",
       "      <th>2</th>\n",
       "      <td>5e9e3032383ecb6bb234e7ca</td>\n",
       "      <td>4.684211</td>\n",
       "    </tr>\n",
       "    <tr>\n",
       "      <th>3</th>\n",
       "      <td>5e9e3032383ecb267a34e7c7</td>\n",
       "      <td>1.227273</td>\n",
       "    </tr>\n",
       "    <tr>\n",
       "      <th>4</th>\n",
       "      <td>5e9e3032383ecb761634e7cb</td>\n",
       "      <td>0.000000</td>\n",
       "    </tr>\n",
       "    <tr>\n",
       "      <th>5</th>\n",
       "      <td>None</td>\n",
       "      <td>0.000000</td>\n",
       "    </tr>\n",
       "  </tbody>\n",
       "</table>\n",
       "</div>"
      ],
      "text/plain": [
       "                 landingpad  avg_reused\n",
       "0  5e9e3032383ecb554034e7c9    8.000000\n",
       "1  5e9e3033383ecbb9e534e7cc    5.076923\n",
       "2  5e9e3032383ecb6bb234e7ca    4.684211\n",
       "3  5e9e3032383ecb267a34e7c7    1.227273\n",
       "4  5e9e3032383ecb761634e7cb    0.000000\n",
       "5                      None    0.000000"
      ]
     },
     "execution_count": 4,
     "metadata": {},
     "output_type": "execute_result"
    }
   ],
   "source": [
    "query = \"\"\"\n",
    "SELECT landingpad, AVG(reusedcount) as avg_reused\n",
    "FROM spacex\n",
    "GROUP BY landingpad\n",
    "ORDER BY avg_reused DESC\n",
    "\"\"\"\n",
    "pd.read_sql(query, conn)\n"
   ]
  },
  {
   "cell_type": "markdown",
   "id": "e02972be",
   "metadata": {},
   "source": [
    "## ✅ Query 3: Top reused booster serials\n"
   ]
  },
  {
   "cell_type": "code",
   "execution_count": 5,
   "id": "4f1f4247",
   "metadata": {},
   "outputs": [
    {
     "data": {
      "application/vnd.microsoft.datawrangler.viewer.v0+json": {
       "columns": [
        {
         "name": "index",
         "rawType": "int64",
         "type": "integer"
        },
        {
         "name": "serial",
         "rawType": "object",
         "type": "string"
        },
        {
         "name": "max_reuse",
         "rawType": "int64",
         "type": "integer"
        }
       ],
       "conversionMethod": "pd.DataFrame",
       "ref": "a3753e3d-82a2-4de4-ad0f-14dcd33a07e5",
       "rows": [
        [
         "0",
         "B1058",
         "13"
        ],
        [
         "1",
         "B1060",
         "12"
        ],
        [
         "2",
         "B1051",
         "12"
        ],
        [
         "3",
         "B1049",
         "9"
        ],
        [
         "4",
         "B1062",
         "8"
        ]
       ],
       "shape": {
        "columns": 2,
        "rows": 5
       }
      },
      "text/html": [
       "<div>\n",
       "<style scoped>\n",
       "    .dataframe tbody tr th:only-of-type {\n",
       "        vertical-align: middle;\n",
       "    }\n",
       "\n",
       "    .dataframe tbody tr th {\n",
       "        vertical-align: top;\n",
       "    }\n",
       "\n",
       "    .dataframe thead th {\n",
       "        text-align: right;\n",
       "    }\n",
       "</style>\n",
       "<table border=\"1\" class=\"dataframe\">\n",
       "  <thead>\n",
       "    <tr style=\"text-align: right;\">\n",
       "      <th></th>\n",
       "      <th>serial</th>\n",
       "      <th>max_reuse</th>\n",
       "    </tr>\n",
       "  </thead>\n",
       "  <tbody>\n",
       "    <tr>\n",
       "      <th>0</th>\n",
       "      <td>B1058</td>\n",
       "      <td>13</td>\n",
       "    </tr>\n",
       "    <tr>\n",
       "      <th>1</th>\n",
       "      <td>B1060</td>\n",
       "      <td>12</td>\n",
       "    </tr>\n",
       "    <tr>\n",
       "      <th>2</th>\n",
       "      <td>B1051</td>\n",
       "      <td>12</td>\n",
       "    </tr>\n",
       "    <tr>\n",
       "      <th>3</th>\n",
       "      <td>B1049</td>\n",
       "      <td>9</td>\n",
       "    </tr>\n",
       "    <tr>\n",
       "      <th>4</th>\n",
       "      <td>B1062</td>\n",
       "      <td>8</td>\n",
       "    </tr>\n",
       "  </tbody>\n",
       "</table>\n",
       "</div>"
      ],
      "text/plain": [
       "  serial  max_reuse\n",
       "0  B1058         13\n",
       "1  B1060         12\n",
       "2  B1051         12\n",
       "3  B1049          9\n",
       "4  B1062          8"
      ]
     },
     "execution_count": 5,
     "metadata": {},
     "output_type": "execute_result"
    }
   ],
   "source": [
    "query = \"\"\"\n",
    "SELECT serial, MAX(reusedcount) as max_reuse\n",
    "FROM spacex\n",
    "GROUP BY serial\n",
    "ORDER BY max_reuse DESC\n",
    "LIMIT 5\n",
    "\"\"\"\n",
    "pd.read_sql(query, conn)\n"
   ]
  },
  {
   "cell_type": "code",
   "execution_count": 6,
   "id": "d6dc15c7",
   "metadata": {},
   "outputs": [
    {
     "data": {
      "image/png": "[encoded data removed]",
      "text/plain": [
       "<Figure size 640x480 with 1 Axes>"
      ]
     },
     "metadata": {},
     "output_type": "display_data"
    }
   ],
   "source": [
    "query = \"\"\"\n",
    "SELECT landingpad, COUNT(*) as total_landings\n",
    "FROM spacex\n",
    "GROUP BY landingpad\n",
    "\"\"\"\n",
    "df_landingpad = pd.read_sql(query, conn)\n",
    "\n",
    "# Plot\n",
    "import seaborn as sns\n",
    "import matplotlib.pyplot as plt\n",
    "\n",
    "sns.barplot(x=\"landingpad\", y=\"total_landings\", data=df_landingpad)\n",
    "plt.title(\"Total Landings per Landing Pad\")\n",
    "plt.xticks(rotation=45)\n",
    "plt.show()\n"
   ]
  }
 ],
 "metadata": {
  "kernelspec": {
   "display_name": "Python 3",
   "language": "python",
   "name": "python3"
  },
  "language_info": {
   "codemirror_mode": {
    "name": "ipython",
    "version": 3
   },
   "file_extension": ".py",
   "mimetype": "text/x-python",
   "name": "python",
   "nbconvert_exporter": "python",
   "pygments_lexer": "ipython3",
   "version": "3.11.9"
  }
 },
 "nbformat": 4,
 "nbformat_minor": 5
}
